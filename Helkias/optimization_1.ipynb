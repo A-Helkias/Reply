{
 "cells": [
  {
   "cell_type": "markdown",
   "metadata": {},
   "source": [
    "# <center> **Optimization** </center>\n",
    "---"
   ]
  },
  {
   "cell_type": "markdown",
   "metadata": {},
   "source": [
    "The code is structured to take as :\n",
    "\n",
    "### **Input** : \n",
    "- A list of available resources extracted from the file. The resources in the list are in the form of classes : `available_resources`\n",
    "- \n",
    "\n",
    "### **Output** : \n",
    "- A list of the best ressources selected for the round : `selected_resources`\n"
   ]
  },
  {
   "cell_type": "code",
   "execution_count": 1,
   "metadata": {},
   "outputs": [],
   "source": [
    "import optuna\n",
    "\n",
    "# Resource class definition\n",
    "class Resource:\n",
    "    def __init__(self, name, purchase_cost, maintenance_cost, lifespan, water_consumption, maintenance_frequency, energy_output, side_effects):\n",
    "        self.name = name  # Resource name\n",
    "        self.purchase_cost = purchase_cost  # Initial purchase cost\n",
    "        self.maintenance_cost = maintenance_cost  # Regular maintenance cost\n",
    "        self.lifespan = lifespan  # Number of operational cycles\n",
    "        self.water_consumption = water_consumption  # Water required\n",
    "        self.maintenance_frequency = maintenance_frequency  # Maintenance interventions needed\n",
    "        self.energy_output = energy_output  # Energy provided by the resource\n",
    "        self.side_effects = side_effects  # Environmental impact (pollution, noise, etc.)\n",
    "\n",
    "    def __repr__(self):\n",
    "        return f\"{self.name} (Cost: {self.purchase_cost}, Energy: {self.energy_output})\"\n",
    "\n",
    "# List of available resources\n",
    "available_resources = [\n",
    "    Resource(\"Solar Panel\", 2000, 50, 10, 0, 0, 500, 0),\n",
    "    Resource(\"Wind Turbine\", 5000, 100, 20, 0, 0, 1200, 0),\n",
    "    Resource(\"Diesel Generator\", 3000, 300, 5, 50, 2, 2000, -100),\n",
    "    Resource(\"Battery Storage\", 1500, 20, 15, 0, 1, 0, 10),\n",
    "]"
   ]
  },
  {
   "cell_type": "code",
   "execution_count": 7,
   "metadata": {},
   "outputs": [],
   "source": [
    "def optimization(available_resources):\n",
    "    # Optimization function\n",
    "    def objective(trial):\n",
    "        selected_resources = []\n",
    "        budget = 10000  # Maximum budget\n",
    "        # Iterate through available resources and determine selection\n",
    "        for resource in available_resources:\n",
    "            if trial.suggest_categorical(f\"use_{resource.name}\", [True, False]):\n",
    "                if budget >= resource.purchase_cost:\n",
    "                    selected_resources.append(resource)\n",
    "                    budget -= resource.purchase_cost\n",
    "        # Compute total energy and total cost\n",
    "        total_energy = sum(r.energy_output for r in selected_resources)\n",
    "        total_cost = sum(r.purchase_cost for r in selected_resources) \n",
    "        \n",
    "        if total_cost == 0:\n",
    "            return float('-inf')  # Penalize cases where no resources are selected\n",
    "            \n",
    "        ########################\" MOST IMPORTANT PART ###################\n",
    "        # Calculate score\n",
    "        score = total_energy / total_cost  # Maximize energy-to-cost ratio\n",
    "        ########################\" MOST IMPORTANT PART ###################\n",
    "        return score\n",
    "\n",
    "    # Run optimization with Optuna\n",
    "    study = optuna.create_study(direction=\"maximize\")\n",
    "    study.optimize(objective, n_trials=50)\n",
    "\n",
    "    # Display best combination of resources\n",
    "    print(\"\\nOptimal resource selection:\")\n",
    "    best_params = study.best_trial.params\n",
    "    for res in available_resources:\n",
    "        if best_params[f\"use_{res.name}\"]:\n",
    "            print(f\"- {res.name}\")\n",
    "    \n",
    "    # Filtrer pour ne garder que les ressources avec 'True'\n",
    "    selected_resources = [key for key, value in best_params.items() if value]\n",
    "    return selected_resources\n"
   ]
  },
  {
   "cell_type": "code",
   "execution_count": 8,
   "metadata": {},
   "outputs": [
    {
     "name": "stderr",
     "output_type": "stream",
     "text": [
      "[I 2025-03-12 17:03:58,482] A new study created in memory with name: no-name-5df1329c-3ab7-4589-b5a6-5a8a47305fca\n",
      "[I 2025-03-12 17:03:58,487] Trial 0 finished with value: 0.24 and parameters: {'use_Solar Panel': False, 'use_Wind Turbine': True, 'use_Diesel Generator': False, 'use_Battery Storage': False}. Best is trial 0 with value: 0.24.\n",
      "[I 2025-03-12 17:03:58,491] Trial 1 finished with value: 0.4444444444444444 and parameters: {'use_Solar Panel': False, 'use_Wind Turbine': False, 'use_Diesel Generator': True, 'use_Battery Storage': True}. Best is trial 1 with value: 0.4444444444444444.\n",
      "[I 2025-03-12 17:03:58,495] Trial 2 finished with value: 0.5 and parameters: {'use_Solar Panel': True, 'use_Wind Turbine': False, 'use_Diesel Generator': True, 'use_Battery Storage': False}. Best is trial 2 with value: 0.5.\n",
      "[I 2025-03-12 17:03:58,501] Trial 3 finished with value: 0.4444444444444444 and parameters: {'use_Solar Panel': False, 'use_Wind Turbine': False, 'use_Diesel Generator': True, 'use_Battery Storage': True}. Best is trial 2 with value: 0.5.\n",
      "[I 2025-03-12 17:03:58,505] Trial 4 finished with value: 0.6666666666666666 and parameters: {'use_Solar Panel': False, 'use_Wind Turbine': False, 'use_Diesel Generator': True, 'use_Battery Storage': False}. Best is trial 4 with value: 0.6666666666666666.\n",
      "[I 2025-03-12 17:03:58,508] Trial 5 finished with value: 0.24 and parameters: {'use_Solar Panel': False, 'use_Wind Turbine': True, 'use_Diesel Generator': False, 'use_Battery Storage': False}. Best is trial 4 with value: 0.6666666666666666.\n",
      "[I 2025-03-12 17:03:58,512] Trial 6 finished with value: 0.37 and parameters: {'use_Solar Panel': True, 'use_Wind Turbine': True, 'use_Diesel Generator': True, 'use_Battery Storage': True}. Best is trial 4 with value: 0.6666666666666666.\n",
      "[I 2025-03-12 17:03:58,516] Trial 7 finished with value: 0.38461538461538464 and parameters: {'use_Solar Panel': True, 'use_Wind Turbine': False, 'use_Diesel Generator': True, 'use_Battery Storage': True}. Best is trial 4 with value: 0.6666666666666666.\n",
      "[I 2025-03-12 17:03:58,521] Trial 8 finished with value: 0.6666666666666666 and parameters: {'use_Solar Panel': False, 'use_Wind Turbine': False, 'use_Diesel Generator': True, 'use_Battery Storage': False}. Best is trial 4 with value: 0.6666666666666666.\n",
      "[I 2025-03-12 17:03:58,524] Trial 9 finished with value: 0.4444444444444444 and parameters: {'use_Solar Panel': False, 'use_Wind Turbine': False, 'use_Diesel Generator': True, 'use_Battery Storage': True}. Best is trial 4 with value: 0.6666666666666666.\n",
      "[I 2025-03-12 17:03:58,543] Trial 10 finished with value: 0.24285714285714285 and parameters: {'use_Solar Panel': True, 'use_Wind Turbine': True, 'use_Diesel Generator': False, 'use_Battery Storage': False}. Best is trial 4 with value: 0.6666666666666666.\n",
      "[I 2025-03-12 17:03:58,557] Trial 11 finished with value: 0.6666666666666666 and parameters: {'use_Solar Panel': False, 'use_Wind Turbine': False, 'use_Diesel Generator': True, 'use_Battery Storage': False}. Best is trial 4 with value: 0.6666666666666666.\n",
      "[I 2025-03-12 17:03:58,571] Trial 12 finished with value: 0.6666666666666666 and parameters: {'use_Solar Panel': False, 'use_Wind Turbine': False, 'use_Diesel Generator': True, 'use_Battery Storage': False}. Best is trial 4 with value: 0.6666666666666666.\n",
      "[I 2025-03-12 17:03:58,664] Trial 13 finished with value: 0.6666666666666666 and parameters: {'use_Solar Panel': False, 'use_Wind Turbine': False, 'use_Diesel Generator': True, 'use_Battery Storage': False}. Best is trial 4 with value: 0.6666666666666666.\n",
      "[I 2025-03-12 17:03:58,677] Trial 14 finished with value: -inf and parameters: {'use_Solar Panel': False, 'use_Wind Turbine': False, 'use_Diesel Generator': False, 'use_Battery Storage': False}. Best is trial 4 with value: 0.6666666666666666.\n",
      "[I 2025-03-12 17:03:58,695] Trial 15 finished with value: 0.6666666666666666 and parameters: {'use_Solar Panel': False, 'use_Wind Turbine': False, 'use_Diesel Generator': True, 'use_Battery Storage': False}. Best is trial 4 with value: 0.6666666666666666.\n",
      "[I 2025-03-12 17:03:58,795] Trial 16 finished with value: 0.6666666666666666 and parameters: {'use_Solar Panel': False, 'use_Wind Turbine': False, 'use_Diesel Generator': True, 'use_Battery Storage': False}. Best is trial 4 with value: 0.6666666666666666.\n",
      "[I 2025-03-12 17:03:58,812] Trial 17 finished with value: 0.6666666666666666 and parameters: {'use_Solar Panel': False, 'use_Wind Turbine': False, 'use_Diesel Generator': True, 'use_Battery Storage': False}. Best is trial 4 with value: 0.6666666666666666.\n",
      "[I 2025-03-12 17:03:58,832] Trial 18 finished with value: 0.24285714285714285 and parameters: {'use_Solar Panel': True, 'use_Wind Turbine': True, 'use_Diesel Generator': False, 'use_Battery Storage': False}. Best is trial 4 with value: 0.6666666666666666.\n",
      "[I 2025-03-12 17:03:58,875] Trial 19 finished with value: 0.6666666666666666 and parameters: {'use_Solar Panel': False, 'use_Wind Turbine': False, 'use_Diesel Generator': True, 'use_Battery Storage': False}. Best is trial 4 with value: 0.6666666666666666.\n",
      "[I 2025-03-12 17:03:58,892] Trial 20 finished with value: 0.6666666666666666 and parameters: {'use_Solar Panel': False, 'use_Wind Turbine': False, 'use_Diesel Generator': True, 'use_Battery Storage': False}. Best is trial 4 with value: 0.6666666666666666.\n",
      "[I 2025-03-12 17:03:58,976] Trial 21 finished with value: 0.6666666666666666 and parameters: {'use_Solar Panel': False, 'use_Wind Turbine': False, 'use_Diesel Generator': True, 'use_Battery Storage': False}. Best is trial 4 with value: 0.6666666666666666.\n",
      "[I 2025-03-12 17:03:59,020] Trial 22 finished with value: 0.6666666666666666 and parameters: {'use_Solar Panel': False, 'use_Wind Turbine': False, 'use_Diesel Generator': True, 'use_Battery Storage': False}. Best is trial 4 with value: 0.6666666666666666.\n",
      "[I 2025-03-12 17:03:59,033] Trial 23 finished with value: 0.6666666666666666 and parameters: {'use_Solar Panel': False, 'use_Wind Turbine': False, 'use_Diesel Generator': True, 'use_Battery Storage': False}. Best is trial 4 with value: 0.6666666666666666.\n",
      "[I 2025-03-12 17:03:59,128] Trial 24 finished with value: 0.6666666666666666 and parameters: {'use_Solar Panel': False, 'use_Wind Turbine': False, 'use_Diesel Generator': True, 'use_Battery Storage': False}. Best is trial 4 with value: 0.6666666666666666.\n",
      "[I 2025-03-12 17:03:59,149] Trial 25 finished with value: 0.6666666666666666 and parameters: {'use_Solar Panel': False, 'use_Wind Turbine': False, 'use_Diesel Generator': True, 'use_Battery Storage': False}. Best is trial 4 with value: 0.6666666666666666.\n",
      "[I 2025-03-12 17:03:59,167] Trial 26 finished with value: 0.2 and parameters: {'use_Solar Panel': True, 'use_Wind Turbine': True, 'use_Diesel Generator': False, 'use_Battery Storage': True}. Best is trial 4 with value: 0.6666666666666666.\n",
      "[I 2025-03-12 17:03:59,273] Trial 27 finished with value: 0.6666666666666666 and parameters: {'use_Solar Panel': False, 'use_Wind Turbine': False, 'use_Diesel Generator': True, 'use_Battery Storage': False}. Best is trial 4 with value: 0.6666666666666666.\n",
      "[I 2025-03-12 17:03:59,288] Trial 28 finished with value: 0.6666666666666666 and parameters: {'use_Solar Panel': False, 'use_Wind Turbine': False, 'use_Diesel Generator': True, 'use_Battery Storage': False}. Best is trial 4 with value: 0.6666666666666666.\n",
      "[I 2025-03-12 17:03:59,327] Trial 29 finished with value: 0.24 and parameters: {'use_Solar Panel': False, 'use_Wind Turbine': True, 'use_Diesel Generator': False, 'use_Battery Storage': False}. Best is trial 4 with value: 0.6666666666666666.\n",
      "[I 2025-03-12 17:03:59,347] Trial 30 finished with value: 0.6666666666666666 and parameters: {'use_Solar Panel': False, 'use_Wind Turbine': False, 'use_Diesel Generator': True, 'use_Battery Storage': False}. Best is trial 4 with value: 0.6666666666666666.\n",
      "[I 2025-03-12 17:03:59,370] Trial 31 finished with value: 0.6666666666666666 and parameters: {'use_Solar Panel': False, 'use_Wind Turbine': False, 'use_Diesel Generator': True, 'use_Battery Storage': False}. Best is trial 4 with value: 0.6666666666666666.\n",
      "[I 2025-03-12 17:03:59,406] Trial 32 finished with value: 0.6666666666666666 and parameters: {'use_Solar Panel': False, 'use_Wind Turbine': False, 'use_Diesel Generator': True, 'use_Battery Storage': False}. Best is trial 4 with value: 0.6666666666666666.\n",
      "[I 2025-03-12 17:03:59,427] Trial 33 finished with value: 0.6666666666666666 and parameters: {'use_Solar Panel': False, 'use_Wind Turbine': False, 'use_Diesel Generator': True, 'use_Battery Storage': False}. Best is trial 4 with value: 0.6666666666666666.\n",
      "[I 2025-03-12 17:03:59,453] Trial 34 finished with value: 0.4444444444444444 and parameters: {'use_Solar Panel': False, 'use_Wind Turbine': False, 'use_Diesel Generator': True, 'use_Battery Storage': True}. Best is trial 4 with value: 0.6666666666666666.\n",
      "[I 2025-03-12 17:03:59,477] Trial 35 finished with value: 0.6666666666666666 and parameters: {'use_Solar Panel': False, 'use_Wind Turbine': False, 'use_Diesel Generator': True, 'use_Battery Storage': False}. Best is trial 4 with value: 0.6666666666666666.\n",
      "[I 2025-03-12 17:03:59,540] Trial 36 finished with value: 0.5 and parameters: {'use_Solar Panel': True, 'use_Wind Turbine': False, 'use_Diesel Generator': True, 'use_Battery Storage': False}. Best is trial 4 with value: 0.6666666666666666.\n",
      "[I 2025-03-12 17:03:59,560] Trial 37 finished with value: 0.3368421052631579 and parameters: {'use_Solar Panel': False, 'use_Wind Turbine': True, 'use_Diesel Generator': True, 'use_Battery Storage': True}. Best is trial 4 with value: 0.6666666666666666.\n",
      "[I 2025-03-12 17:03:59,578] Trial 38 finished with value: -inf and parameters: {'use_Solar Panel': False, 'use_Wind Turbine': False, 'use_Diesel Generator': False, 'use_Battery Storage': False}. Best is trial 4 with value: 0.6666666666666666.\n",
      "[I 2025-03-12 17:03:59,654] Trial 39 finished with value: 0.38461538461538464 and parameters: {'use_Solar Panel': True, 'use_Wind Turbine': False, 'use_Diesel Generator': True, 'use_Battery Storage': True}. Best is trial 4 with value: 0.6666666666666666.\n",
      "[I 2025-03-12 17:03:59,670] Trial 40 finished with value: 0.4 and parameters: {'use_Solar Panel': False, 'use_Wind Turbine': True, 'use_Diesel Generator': True, 'use_Battery Storage': False}. Best is trial 4 with value: 0.6666666666666666.\n",
      "[I 2025-03-12 17:03:59,720] Trial 41 finished with value: 0.6666666666666666 and parameters: {'use_Solar Panel': False, 'use_Wind Turbine': False, 'use_Diesel Generator': True, 'use_Battery Storage': False}. Best is trial 4 with value: 0.6666666666666666.\n",
      "[I 2025-03-12 17:03:59,803] Trial 42 finished with value: 0.6666666666666666 and parameters: {'use_Solar Panel': False, 'use_Wind Turbine': False, 'use_Diesel Generator': True, 'use_Battery Storage': False}. Best is trial 4 with value: 0.6666666666666666.\n",
      "[I 2025-03-12 17:03:59,828] Trial 43 finished with value: 0.6666666666666666 and parameters: {'use_Solar Panel': False, 'use_Wind Turbine': False, 'use_Diesel Generator': True, 'use_Battery Storage': False}. Best is trial 4 with value: 0.6666666666666666.\n",
      "[I 2025-03-12 17:03:59,909] Trial 44 finished with value: 0.6666666666666666 and parameters: {'use_Solar Panel': False, 'use_Wind Turbine': False, 'use_Diesel Generator': True, 'use_Battery Storage': False}. Best is trial 4 with value: 0.6666666666666666.\n",
      "[I 2025-03-12 17:03:59,987] Trial 45 finished with value: 0.6666666666666666 and parameters: {'use_Solar Panel': False, 'use_Wind Turbine': False, 'use_Diesel Generator': True, 'use_Battery Storage': False}. Best is trial 4 with value: 0.6666666666666666.\n",
      "[I 2025-03-12 17:04:00,018] Trial 46 finished with value: 0.25 and parameters: {'use_Solar Panel': True, 'use_Wind Turbine': False, 'use_Diesel Generator': False, 'use_Battery Storage': False}. Best is trial 4 with value: 0.6666666666666666.\n",
      "[I 2025-03-12 17:04:00,092] Trial 47 finished with value: 0.4444444444444444 and parameters: {'use_Solar Panel': False, 'use_Wind Turbine': False, 'use_Diesel Generator': True, 'use_Battery Storage': True}. Best is trial 4 with value: 0.6666666666666666.\n",
      "[I 2025-03-12 17:04:00,117] Trial 48 finished with value: 0.6666666666666666 and parameters: {'use_Solar Panel': False, 'use_Wind Turbine': False, 'use_Diesel Generator': True, 'use_Battery Storage': False}. Best is trial 4 with value: 0.6666666666666666.\n",
      "[I 2025-03-12 17:04:00,176] Trial 49 finished with value: 0.6666666666666666 and parameters: {'use_Solar Panel': False, 'use_Wind Turbine': False, 'use_Diesel Generator': True, 'use_Battery Storage': False}. Best is trial 4 with value: 0.6666666666666666.\n"
     ]
    },
    {
     "name": "stdout",
     "output_type": "stream",
     "text": [
      "\n",
      "Optimal resource selection:\n",
      "- Diesel Generator\n"
     ]
    },
    {
     "data": {
      "text/plain": [
       "['use_Diesel Generator']"
      ]
     },
     "execution_count": 8,
     "metadata": {},
     "output_type": "execute_result"
    }
   ],
   "source": [
    "best_ressources = optimization(available_resources)\n",
    "best_ressources"
   ]
  },
  {
   "cell_type": "code",
   "execution_count": null,
   "metadata": {},
   "outputs": [],
   "source": []
  }
 ],
 "metadata": {
  "kernelspec": {
   "display_name": "data_science_env",
   "language": "python",
   "name": "data_science_env"
  },
  "language_info": {
   "codemirror_mode": {
    "name": "ipython",
    "version": 3
   },
   "file_extension": ".py",
   "mimetype": "text/x-python",
   "name": "python",
   "nbconvert_exporter": "python",
   "pygments_lexer": "ipython3",
   "version": "3.8.10"
  }
 },
 "nbformat": 4,
 "nbformat_minor": 2
}
